{
 "cells": [
  {
   "cell_type": "code",
   "execution_count": 1,
   "metadata": {},
   "outputs": [
    {
     "name": "stdout",
     "output_type": "stream",
     "text": [
      "Hello Amit\n"
     ]
    }
   ],
   "source": [
    "#First Program\n",
    "print('Hello Amit')"
   ]
  },
  {
   "cell_type": "code",
   "execution_count": null,
   "metadata": {},
   "outputs": [],
   "source": []
  },
  {
   "cell_type": "code",
   "execution_count": 2,
   "metadata": {},
   "outputs": [
    {
     "name": "stdout",
     "output_type": "stream",
     "text": [
      "The numbers from 2000 to 3200 divisible by 7 but not multiple of 5 are : \n",
      "[2002, 2009, 2016, 2023, 2037, 2044, 2051, 2058, 2072, 2079, 2086, 2093, 2107, 2114, 2121, 2128, 2142, 2149, 2156, 2163, 2177, 2184, 2191, 2198, 2212, 2219, 2226, 2233, 2247, 2254, 2261, 2268, 2282, 2289, 2296, 2303, 2317, 2324, 2331, 2338, 2352, 2359, 2366, 2373, 2387, 2394, 2401, 2408, 2422, 2429, 2436, 2443, 2457, 2464, 2471, 2478, 2492, 2499, 2506, 2513, 2527, 2534, 2541, 2548, 2562, 2569, 2576, 2583, 2597, 2604, 2611, 2618, 2632, 2639, 2646, 2653, 2667, 2674, 2681, 2688, 2702, 2709, 2716, 2723, 2737, 2744, 2751, 2758, 2772, 2779, 2786, 2793, 2807, 2814, 2821, 2828, 2842, 2849, 2856, 2863, 2877, 2884, 2891, 2898, 2912, 2919, 2926, 2933, 2947, 2954, 2961, 2968, 2982, 2989, 2996, 3003, 3017, 3024, 3031, 3038, 3052, 3059, 3066, 3073, 3087, 3094, 3101, 3108, 3122, 3129, 3136, 3143, 3157, 3164, 3171, 3178, 3192, 3199]\n"
     ]
    }
   ],
   "source": [
    "#Program to find numbers from 2000 to 3200 which are divisible by 7 but not multiple of 5\n",
    "numbers=[]\n",
    "print('The numbers from 2000 to 3200 divisible by 7 but not multiple of 5 are : ')\n",
    "for number in range(2000,3201):\n",
    "    if number%7==0 and number%5!=0:\n",
    "        #return number\n",
    "        numbers.append(number)\n",
    "print(numbers)   "
   ]
  },
  {
   "cell_type": "code",
   "execution_count": null,
   "metadata": {},
   "outputs": [],
   "source": []
  },
  {
   "cell_type": "code",
   "execution_count": 3,
   "metadata": {},
   "outputs": [
    {
     "name": "stdout",
     "output_type": "stream",
     "text": [
      "Enter your first name:amit\n",
      "Enter your last name:sangwan\n",
      "Sangwan Amit\n"
     ]
    }
   ],
   "source": [
    "#Program to accept first and last name from user and print last name first and then first name seperated by space between last and first name\n",
    "first_name=input('Enter your first name:')\n",
    "first_name=first_name.title()\n",
    "last_name=input('Enter your last name:')\n",
    "last_name=last_name.title()\n",
    "full_name=(last_name) +(' ')+ (first_name)\n",
    "print(full_name)\n"
   ]
  },
  {
   "cell_type": "code",
   "execution_count": null,
   "metadata": {},
   "outputs": [],
   "source": []
  },
  {
   "cell_type": "code",
   "execution_count": 4,
   "metadata": {},
   "outputs": [
    {
     "name": "stdout",
     "output_type": "stream",
     "text": [
      "The volume of sphere is: 904.32\n"
     ]
    }
   ],
   "source": [
    "#Program to find the volume of a sphere with diameter of 12cm\n",
    "diameter=12\n",
    "radius=diameter/2\n",
    "pi=3.14\n",
    "volume=(4*pi*(radius**3))/3\n",
    "print('The volume of sphere is:',volume)"
   ]
  },
  {
   "cell_type": "code",
   "execution_count": null,
   "metadata": {},
   "outputs": [],
   "source": []
  },
  {
   "cell_type": "code",
   "execution_count": 5,
   "metadata": {},
   "outputs": [
    {
     "name": "stdout",
     "output_type": "stream",
     "text": [
      "Enter the word which you want in reverse order:amit\n",
      "tima\n"
     ]
    }
   ],
   "source": [
    "#Program to accept word from user and reversing the word \n",
    "word=input('Enter the word which you want in reverse order:')\n",
    "reverse_word=word[::-1]\n",
    "print(reverse_word)"
   ]
  },
  {
   "cell_type": "code",
   "execution_count": null,
   "metadata": {},
   "outputs": [],
   "source": []
  },
  {
   "cell_type": "code",
   "execution_count": 6,
   "metadata": {},
   "outputs": [
    {
     "name": "stdout",
     "output_type": "stream",
     "text": [
      "*\n",
      "**\n",
      "***\n",
      "****\n",
      "*****\n",
      "****\n",
      "***\n",
      "**\n",
      "*\n"
     ]
    }
   ],
   "source": [
    "#Program to print * in a particular given pattern\n",
    "for i in range(1,6):\n",
    "    print('*'*i)\n",
    "for i in range(4,0,-1):\n",
    "    print('*'*i)"
   ]
  },
  {
   "cell_type": "code",
   "execution_count": null,
   "metadata": {},
   "outputs": [],
   "source": []
  },
  {
   "cell_type": "code",
   "execution_count": 7,
   "metadata": {
    "scrolled": true
   },
   "outputs": [
    {
     "name": "stdout",
     "output_type": "stream",
     "text": [
      "enter the values: amit,sangwan,45\n",
      "the values stored in list are: ['amit', 'sangwan', '45']\n"
     ]
    }
   ],
   "source": [
    "#Program which accepts a sequence of comma seperated numbers from console and generate as list\n",
    "l = [x for x in input('enter the values: ').split(',')]\n",
    "print('the values stored in list are:',l)"
   ]
  },
  {
   "cell_type": "code",
   "execution_count": null,
   "metadata": {},
   "outputs": [],
   "source": []
  },
  {
   "cell_type": "code",
   "execution_count": 8,
   "metadata": {},
   "outputs": [
    {
     "name": "stdout",
     "output_type": "stream",
     "text": [
      "Enter your data seperated by comma : amit,45,2.25\n",
      "your data in form of a list is:  ['amit', '45', '2.25']\n"
     ]
    }
   ],
   "source": [
    "#Program which accepts a sequence of comma seperated numbers from console and generate as list\n",
    "l=[]\n",
    "for x in input('Enter your data seperated by comma : ').split(','):\n",
    "    l.append(x)\n",
    "print('your data in form of a list is: ',l)\n",
    "    "
   ]
  },
  {
   "cell_type": "code",
   "execution_count": null,
   "metadata": {},
   "outputs": [],
   "source": []
  },
  {
   "cell_type": "code",
   "execution_count": 9,
   "metadata": {},
   "outputs": [
    {
     "name": "stdout",
     "output_type": "stream",
     "text": [
      "WE, THE PEOPLE OF INDIA,\n",
      "      having solemnly resolve to constitute india into a SOVEREGIAN,!      \n",
      "            SOCIALIST, SECULARIST, DEMOCRATIC REPUBLIC            \n",
      "              and to secure to all its citizens               \n"
     ]
    }
   ],
   "source": [
    "#Program to print paragraph as stated in source file.\n",
    "a='WE, THE PEOPLE OF INDIA,'\n",
    "b='having solemnly resolve to constitute india into a SOVEREGIAN,!'\n",
    "b=b.center(75,' ')\n",
    "c='SOCIALIST, SECULARIST, DEMOCRATIC REPUBLIC'\n",
    "c=c.center(66,' ')\n",
    "d='and to secure to all its citizens'\n",
    "d=d.center(62,' ')\n",
    "print(a)\n",
    "print(b)\n",
    "print(c)\n",
    "print(d)\n"
   ]
  },
  {
   "cell_type": "code",
   "execution_count": null,
   "metadata": {},
   "outputs": [],
   "source": []
  }
 ],
 "metadata": {
  "kernelspec": {
   "display_name": "Python 3",
   "language": "python",
   "name": "python3"
  },
  "language_info": {
   "codemirror_mode": {
    "name": "ipython",
    "version": 3
   },
   "file_extension": ".py",
   "mimetype": "text/x-python",
   "name": "python",
   "nbconvert_exporter": "python",
   "pygments_lexer": "ipython3",
   "version": "3.7.6"
  }
 },
 "nbformat": 4,
 "nbformat_minor": 4
}
